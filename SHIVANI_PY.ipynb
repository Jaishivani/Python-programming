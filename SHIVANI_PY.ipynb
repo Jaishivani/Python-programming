{
  "nbformat": 4,
  "nbformat_minor": 0,
  "metadata": {
    "colab": {
      "provenance": [],
      "include_colab_link": true
    },
    "kernelspec": {
      "name": "python3",
      "display_name": "Python 3"
    },
    "language_info": {
      "name": "python"
    }
  },
  "cells": [
    {
      "cell_type": "markdown",
      "metadata": {
        "id": "view-in-github",
        "colab_type": "text"
      },
      "source": [
        "<a href=\"https://colab.research.google.com/github/Jaishivani/Python-programming/blob/main/SHIVANI_PY.ipynb\" target=\"_parent\"><img src=\"https://colab.research.google.com/assets/colab-badge.svg\" alt=\"Open In Colab\"/></a>"
      ]
    },
    {
      "cell_type": "code",
      "execution_count": null,
      "metadata": {
        "colab": {
          "base_uri": "https://localhost:8080/"
        },
        "id": "SHx2QkN8f8O2",
        "outputId": "8d2d1b17-e346-4647-c5bd-1f5bbca57997"
      },
      "outputs": [
        {
          "output_type": "stream",
          "name": "stdout",
          "text": [
            "[2, 4, 6, 8, 10] [1, 3, 5, 7, 9] [4, 16, 36, 64, 100] [1, 9, 25, 49, 81] "
          ]
        }
      ],
      "source": [
        "a=[1,2,3,4,5,6,7,8,9,10]\n",
        "ev=[]\n",
        "od=[]\n",
        "evs=[]\n",
        "ods=[]\n",
        "for i in a:\n",
        "    if(i%2==0):\n",
        "        ev.append(i)\n",
        "        evs.append(i*i)\n",
        "    else:\n",
        "        od.append(i)\n",
        "        ods.append(i*i)\n",
        "print(ev,od,evs,ods,end=\" \")"
      ]
    },
    {
      "cell_type": "code",
      "source": [
        "list1=[2,4,8,7,34,24,9]\n",
        "mini=list1[0]\n",
        "maxi=list1[0]\n",
        "for i in list1:\n",
        "  if (maxi< i):\n",
        "    maxi=i\n",
        "  if(mini>i):\n",
        "    mini=i\n",
        "print(\"The maximum value is:\",maxi)\n",
        "print(\"The minimum value is: \",mini)\n"
      ],
      "metadata": {
        "colab": {
          "base_uri": "https://localhost:8080/"
        },
        "id": "dPdbS3slnFii",
        "outputId": "c852a6aa-67c2-483f-d74f-bddddb9768bc"
      },
      "execution_count": null,
      "outputs": [
        {
          "output_type": "stream",
          "name": "stdout",
          "text": [
            "The maximum value is: 34\n",
            "The minimum value is:  2\n"
          ]
        }
      ]
    },
    {
      "cell_type": "code",
      "source": [
        "li1=[2,4,8,7,34,24,9]\n",
        "min=li1[0]\n",
        "max=li1[0]\n",
        "for i in li1:\n",
        "  if (max< i):\n",
        "    max=i\n",
        "  if(min>i):\n",
        "    min=i\n",
        "print(\"BEFORE REMOVAL:\",li1)\n",
        "print(\"The first maximum value is:\",max)\n",
        "print(\"The first minimum value is: \",min)\n",
        "li1.remove(maxi)\n",
        "li1.remove(mini)\n",
        "print(\"After Removal\",li1)\n",
        "maxi=list1[0]\n",
        "mini=list1[0]\n",
        "for j in list1:\n",
        "  if(maxi < j):\n",
        "    maxi=j\n",
        "  if(mini > j):\n",
        "    mini=j\n",
        "print(\"The second maximum value is:\",maxi)\n",
        "print(\"The second minimum value is: \",mini)"
      ],
      "metadata": {
        "colab": {
          "base_uri": "https://localhost:8080/"
        },
        "id": "l9zsxiOAoQUY",
        "outputId": "c807eda6-6aab-4127-e088-46172aa889e9"
      },
      "execution_count": null,
      "outputs": [
        {
          "output_type": "stream",
          "name": "stdout",
          "text": [
            "BEFORE REMOVAL: [2, 4, 8, 7, 34, 24, 9]\n",
            "The first maximum value is: 34\n",
            "The first minimum value is:  2\n",
            "After Removal [4, 8, 7, 24, 9]\n",
            "The second maximum value is: 45\n",
            "The second minimum value is:  2\n"
          ]
        }
      ]
    },
    {
      "cell_type": "code",
      "source": [
        "s= [45,67,83,24,55,87,77,34]\n",
        "x=s.index(55)\n",
        "print(x)\n"
      ],
      "metadata": {
        "colab": {
          "base_uri": "https://localhost:8080/"
        },
        "id": "WA0MLHIksP_Z",
        "outputId": "b171a979-4421-4294-bfaf-ee6cdfb828b4"
      },
      "execution_count": null,
      "outputs": [
        {
          "output_type": "stream",
          "name": "stdout",
          "text": [
            "4\n"
          ]
        }
      ]
    },
    {
      "cell_type": "code",
      "source": [
        "T=[4,5,6,4,6,7,4,2,4,8,7]\n",
        "max = 0\n",
        "R = T[0]\n",
        "for i in T:\n",
        "    fre = T.count(i)\n",
        "    if fre > max:\n",
        "        max = fre\n",
        "        R = i\n",
        "print(R)"
      ],
      "metadata": {
        "colab": {
          "base_uri": "https://localhost:8080/"
        },
        "id": "tKk9I5C2syBZ",
        "outputId": "445b901b-6438-4113-b71e-6f3e2e6ad98f"
      },
      "execution_count": null,
      "outputs": [
        {
          "output_type": "stream",
          "name": "stdout",
          "text": [
            "4\n"
          ]
        }
      ]
    },
    {
      "cell_type": "code",
      "source": [
        "def indian(ru):\n",
        "  dollar=ru*0.012\n",
        "  print(\"India (Rupee) to US (Dollar) conversion is:\",dollar)\n",
        "def celsius(c):\n",
        "  fah=c*(9/5)+32\n",
        "  print(\"Celsius to Fahrenheit:\",fah)\n",
        "def bami(wei,hei):\n",
        "  bmi=wei/(hei*hei)\n",
        "  print(\"BMI Calculation:\",bmi)\n",
        "def simple(p,r,t):\n",
        "  inter=(p*r*t)/100\n",
        "  print(\"Simple Interest Calculation:\",inter)\n",
        "\n",
        "rupee=int(input(\"Enter the rupees:\"))\n",
        "c=float(input(\"Enter celsius\"))\n",
        "wei=int(input(\"Enter weight\"))\n",
        "hei=int(input(\"Enter height\"))\n",
        "p=int(input(\"p\"))\n",
        "r=int(input(\"r\"))\n",
        "t=int(input(\"t\"))\n",
        "\n",
        "indian(rupee)\n",
        "celsius(c)\n",
        "bami(wei,hei)\n",
        "simple(p,r,t)"
      ],
      "metadata": {
        "colab": {
          "base_uri": "https://localhost:8080/"
        },
        "id": "gNz6gAF9uuu-",
        "outputId": "1d57acd2-83b6-44b5-e86e-5d3689a05bde"
      },
      "execution_count": null,
      "outputs": [
        {
          "output_type": "stream",
          "name": "stdout",
          "text": [
            "Enter the rupees:12\n",
            "Enter celsius7\n",
            "Enter weight45\n",
            "Enter height78\n",
            "p7\n",
            "r8\n",
            "t5\n",
            "India (Rupee) to US (Dollar) conversion is: 0.14400000000000002\n",
            "Celsius to Fahrenheit: 44.6\n",
            "BMI Calculation: 0.0073964497041420114\n",
            "Simple Interest Calculation: 2.8\n"
          ]
        }
      ]
    },
    {
      "cell_type": "code",
      "source": [
        "def ascending_order(lst):\n",
        "  for i in range(len(lst)):\n",
        "      for j in range(i + 1, len(lst)):\n",
        "          if lst[i] > lst[j]:\n",
        "                lst[i], lst[j] = lst[j], lst[i]\n",
        "  return lst\n",
        "def descending_order(lst):\n",
        "    for i in range(len(lst)):\n",
        "        for j in range(i + 1, len(lst)):\n",
        "            if lst[i] < lst[j]:\n",
        "                lst[i], lst[j] = lst[j], lst[i]\n",
        "    return lst\n",
        "input_list = [5, 3, 7, 9, 8, 4, 2]\n",
        "ascending_sorted = ascending_order(input_list.copy())\n",
        "print(\"Ascending Order:\", ascending_sorted)\n",
        "descending_sorted = descending_order(input_list.copy())\n",
        "print(\"Descending Order:\", descending_sorted)"
      ],
      "metadata": {
        "colab": {
          "base_uri": "https://localhost:8080/"
        },
        "id": "n3vlI__50B-2",
        "outputId": "c0460539-2b6f-4c7a-bca0-afd139c4c1d3"
      },
      "execution_count": null,
      "outputs": [
        {
          "output_type": "stream",
          "name": "stdout",
          "text": [
            "Ascending Order: [2, 3, 4, 5, 7, 8, 9]\n",
            "Descending Order: [9, 8, 7, 5, 4, 3, 2]\n"
          ]
        }
      ]
    },
    {
      "cell_type": "code",
      "source": [
        "import random\n",
        "\n",
        "class Voter:\n",
        "    def __init__(self, name):\n",
        "        self.name = name\n",
        "        self.vote = None\n",
        "\n",
        "class Candidate:\n",
        "    def __init__(self, name):\n",
        "        self.name = name\n",
        "        self.votes = 0\n",
        "\n",
        "voter_names = [\"Voter1\", \"Voter2\", \"Voter3\", \"Voter4\", \"Voter5\", \"Voter6\", \"Voter7\", \"Voter8\", \"Voter9\", \"Voter10\"]\n",
        "\n",
        "voters = [Voter(name) for name in voter_names]\n",
        "\n",
        "candidates = [Candidate(\"A\"), Candidate(\"B\"), Candidate(\"C\")]\n",
        "\n",
        "for voter in voters:\n",
        "    voter.vote = random.choice(candidates)\n",
        "\n",
        "for voter in voters:\n",
        "    voter.vote.votes += 1\n",
        "\n",
        "winner = max(candidates, key=lambda x: x.votes)\n",
        "runner = min(candidates, key=lambda x: x.votes)\n",
        "\n",
        "print(\"Winner:\", winner.name)\n",
        "print(\"Runner:\", runner.name)\n",
        "\n",
        "print(\"Voters who voted for the winner:\")\n",
        "for voter in voters:\n",
        "    if voter.vote == winner:\n",
        "        print(voter.name)\n",
        "\n",
        "print(\"Voters who voted for the runner:\")\n",
        "for voter in voters:\n",
        "    if voter.vote == runner:\n",
        "        print(voter.name)\n",
        "\n"
      ],
      "metadata": {
        "colab": {
          "base_uri": "https://localhost:8080/"
        },
        "id": "XQFy9Tsf5_Nn",
        "outputId": "65044ebe-e00e-4f5d-a832-06bff04804b4"
      },
      "execution_count": null,
      "outputs": [
        {
          "output_type": "stream",
          "name": "stdout",
          "text": [
            "Winner: C\n",
            "Runner: A\n",
            "Voters who voted for the winner:\n",
            "Voter3\n",
            "Voter4\n",
            "Voter6\n",
            "Voter7\n",
            "Voters who voted for the runner:\n",
            "Voter2\n",
            "Voter5\n",
            "Voter8\n"
          ]
        }
      ]
    },
    {
      "cell_type": "code",
      "source": [
        "T=[4,5,6,4,6,7,4,2,4,8,7]\n",
        "max = 0\n",
        "R = T[0]\n",
        "for i in T:\n",
        "    fre = T.count(i)\n",
        "    if fre > max:\n",
        "        max = fre\n",
        "        R = i\n",
        "print(R)\n",
        "keys = ['Ten', 'Twenty', 'Thirty']\n",
        "values = [10, 20, 30]\n",
        "for i in range(1):\n",
        "  res={keys[0]:values[0],keys[1]:values[1],keys[2]:values[2]}\n",
        "  print(res)"
      ],
      "metadata": {
        "colab": {
          "base_uri": "https://localhost:8080/"
        },
        "id": "-rWdHEip5jGz",
        "outputId": "3a9cefe5-aad9-4182-f53d-c2ee251d4466"
      },
      "execution_count": null,
      "outputs": [
        {
          "output_type": "stream",
          "name": "stdout",
          "text": [
            "4\n",
            "{'Ten': 10, 'Twenty': 20, 'Thirty': 30}\n"
          ]
        }
      ]
    },
    {
      "cell_type": "code",
      "source": [
        "input_list = [0, 1, 0, 1, 1, 0, 1, 0, 1, 0]\n",
        "\n",
        "sorted_list = sorted(input_list)\n",
        "\n",
        "print(sorted_list)\n",
        "\n"
      ],
      "metadata": {
        "id": "8Wj9VeS86MsW",
        "outputId": "b483718a-c11a-4761-b3f3-6cff7b814b5b",
        "colab": {
          "base_uri": "https://localhost:8080/"
        }
      },
      "execution_count": null,
      "outputs": [
        {
          "output_type": "stream",
          "name": "stdout",
          "text": [
            "[0, 0, 0, 0, 0, 1, 1, 1, 1, 1]\n"
          ]
        }
      ]
    }
  ]
}