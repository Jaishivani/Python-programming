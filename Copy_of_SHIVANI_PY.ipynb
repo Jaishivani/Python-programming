{
  "nbformat": 4,
  "nbformat_minor": 0,
  "metadata": {
    "colab": {
      "provenance": [],
      "include_colab_link": true
    },
    "kernelspec": {
      "name": "python3",
      "display_name": "Python 3"
    },
    "language_info": {
      "name": "python"
    }
  },
  "cells": [
    {
      "cell_type": "markdown",
      "metadata": {
        "id": "view-in-github",
        "colab_type": "text"
      },
      "source": [
        "<a href=\"https://colab.research.google.com/github/Jaishivani/Python-programming/blob/main/Copy_of_SHIVANI_PY.ipynb\" target=\"_parent\"><img src=\"https://colab.research.google.com/assets/colab-badge.svg\" alt=\"Open In Colab\"/></a>"
      ]
    },
    {
      "cell_type": "code",
      "source": [
        "s=input(\"Enter a string:\")\n",
        "B=len(s)//2\n",
        "print(s[0],s[B],s[-1])"
      ],
      "metadata": {
        "colab": {
          "base_uri": "https://localhost:8080/"
        },
        "id": "qg3ADf53mXeY",
        "outputId": "1611db03-7bd3-4e51-e8ee-33274df9986e"
      },
      "execution_count": null,
      "outputs": [
        {
          "output_type": "stream",
          "name": "stdout",
          "text": [
            "Enter a string:PRADEEP\n",
            "P D P\n"
          ]
        }
      ]
    },
    {
      "cell_type": "code",
      "source": [
        "s=input(\"Enter a string:\")\n",
        "B=(len(s)//2)-1\n",
        "C=len(s)//2\n",
        "D=(len(s)//2)+1\n",
        "print(s[B],s[C],s[D])"
      ],
      "metadata": {
        "colab": {
          "base_uri": "https://localhost:8080/"
        },
        "id": "RJU5utA2m4si",
        "outputId": "8cfc2bd8-5e4e-45c8-8841-0c153121667b"
      },
      "execution_count": null,
      "outputs": [
        {
          "output_type": "stream",
          "name": "stdout",
          "text": [
            "Enter a string:PRADEEP\n",
            "A D E\n"
          ]
        }
      ]
    },
    {
      "cell_type": "code",
      "source": [
        "s1=input(\"Enter a string1:\")\n",
        "s2=input(\"Enter a string2:\")\n",
        "s3=s1[:2]+s2+s1[2:]\n",
        "print(s3)"
      ],
      "metadata": {
        "colab": {
          "base_uri": "https://localhost:8080/"
        },
        "id": "TjhucMvurBB3",
        "outputId": "2e90955e-273e-4330-f900-ed9a12ab12d8"
      },
      "execution_count": null,
      "outputs": [
        {
          "output_type": "stream",
          "name": "stdout",
          "text": [
            "Enter a string1:STAR\n",
            "Enter a string2:SUPER\n",
            "STSUPERAR\n"
          ]
        }
      ]
    },
    {
      "cell_type": "code",
      "source": [
        "str1=input(\"Enter a string1:\")\n",
        "str2=input(\"Enter a string2:\")\n",
        "str3=str1[0]+str2[0]+str1[1]+str2[1]+str1[2]+str2[2]\n",
        "print(str3)"
      ],
      "metadata": {
        "colab": {
          "base_uri": "https://localhost:8080/"
        },
        "id": "rCQ2wu_du1vL",
        "outputId": "9e6aa999-8758-4907-cba6-0d7897361e97"
      },
      "execution_count": null,
      "outputs": [
        {
          "output_type": "stream",
          "name": "stdout",
          "text": [
            "Enter a string1:LEO\n",
            "Enter a string2:DAS\n",
            "LDEAOS\n"
          ]
        }
      ]
    },
    {
      "cell_type": "code",
      "source": [
        "str1=input(\"Enter a string1:\")\n",
        "str2=input(\"Enter a string2:\")\n",
        "str3=str1+str2\n",
        "print(str3[::-1])"
      ],
      "metadata": {
        "colab": {
          "base_uri": "https://localhost:8080/"
        },
        "id": "iBvE38xZU3j_",
        "outputId": "9e254c08-c5ed-414d-c549-fd4a387366a7"
      },
      "execution_count": null,
      "outputs": [
        {
          "output_type": "stream",
          "name": "stdout",
          "text": [
            "Enter a string1:SUPER\n",
            "Enter a string2:STAR\n",
            "RATSREPUS\n"
          ]
        }
      ]
    },
    {
      "cell_type": "code",
      "source": [
        "str1 = input()\n",
        "chars_count = 0\n",
        "digits_count = 0\n",
        "symbols_count = 0\n",
        "\n",
        "for char in str1:\n",
        "    if char.isalpha():\n",
        "        chars_count += 1\n",
        "    elif char.isdigit():\n",
        "        digits_count += 1\n",
        "    else:\n",
        "        symbols_count += 1\n",
        "\n",
        "print(\"Total counts of chars, digits, and symbol\")\n",
        "print(\"Chars =\", chars_count)\n",
        "print(\"Digits =\", digits_count)\n",
        "print(\"Symbols =\",symbols_count)"
      ],
      "metadata": {
        "colab": {
          "base_uri": "https://localhost:8080/"
        },
        "id": "QmauL8ujVnOg",
        "outputId": "e2be0be2-4a9d-47ce-e14f-f9a554a21739"
      },
      "execution_count": null,
      "outputs": [
        {
          "output_type": "stream",
          "name": "stdout",
          "text": [
            "P@#yn26at^&i5ve\n",
            "Total counts of chars, digits, and symbol\n",
            "Chars = 8\n",
            "Digits = 3\n",
            "Symbols = 4\n"
          ]
        }
      ]
    },
    {
      "cell_type": "code",
      "source": [
        "str1=input(\"Enter a string1:\")\n",
        "str2=input(\"Enter a string2:\")\n",
        "str3=str1[0]+str2[-1]+str1[1]+str2[-2]+str1[2:]+str2[:-2]\n",
        "print(str3)"
      ],
      "metadata": {
        "colab": {
          "base_uri": "https://localhost:8080/"
        },
        "id": "VmeH8WFkWHBx",
        "outputId": "54d21ddf-bb84-4af3-d29d-755e5b027900"
      },
      "execution_count": null,
      "outputs": [
        {
          "output_type": "stream",
          "name": "stdout",
          "text": [
            "Enter a string1:Abc\n",
            "Enter a string2:Xyz\n",
            "AzbycX\n"
          ]
        }
      ]
    },
    {
      "cell_type": "code",
      "source": [
        "experience = int(input(\"Enter the years of experience: \"))\n",
        "\n",
        "if experience > 8:\n",
        "    bonus_percentage = 10\n",
        "elif experience > 4:\n",
        "    bonus_percentage = 7\n",
        "elif experience > 2:\n",
        "    bonus_percentage = 4\n",
        "else:\n",
        "    bonus_percentage = 0\n",
        "\n",
        "salary = float(input(\"Enter the employee's salary: \"))\n",
        "bonus_amount = (bonus_percentage / 100) * salary\n",
        "\n",
        "print(\"Employee's bonus:\",bonus_amount)"
      ],
      "metadata": {
        "colab": {
          "base_uri": "https://localhost:8080/"
        },
        "id": "NGaRdKksWlvU",
        "outputId": "5b2ca0af-1040-42d1-f684-211a0ae7bb11"
      },
      "execution_count": null,
      "outputs": [
        {
          "output_type": "stream",
          "name": "stdout",
          "text": [
            "Enter the years of experience: 12\n",
            "Enter the employee's salary: 100000\n",
            "Employee's bonus: 10000.0\n"
          ]
        }
      ]
    },
    {
      "cell_type": "code",
      "source": [
        "a=int(input())\n",
        "if a<=100:\n",
        "    print(\"No charge\")\n",
        "elif(a>100 and a<=200):\n",
        "    print((a-100)*5)\n",
        "elif a>200:\n",
        "    b=500+(a-200)*10\n",
        "    print(b)"
      ],
      "metadata": {
        "colab": {
          "base_uri": "https://localhost:8080/"
        },
        "id": "or7WeZjuXKcT",
        "outputId": "86224d2e-f2e7-4c55-8364-680ccb2b621f"
      },
      "execution_count": null,
      "outputs": [
        {
          "output_type": "stream",
          "name": "stdout",
          "text": [
            "350\n",
            "2000\n"
          ]
        }
      ]
    },
    {
      "cell_type": "code",
      "source": [
        "marked_price = float(input(\"Enter the marked price: \"))\n",
        "\n",
        "if marked_price > 10000:\n",
        "    discount_percentage = 20\n",
        "elif marked_price > 7000:\n",
        "    discount_percentage = 15\n",
        "else:\n",
        "    discount_percentage = 10\n",
        "\n",
        "discount_amount = (discount_percentage / 100) * marked_price\n",
        "net_amount = marked_price - discount_amount\n",
        "\n",
        "print(\"Net amount to pay:\",net_amount)"
      ],
      "metadata": {
        "colab": {
          "base_uri": "https://localhost:8080/"
        },
        "id": "biOEnBzOXV4A",
        "outputId": "b6cddb21-9b56-430b-979f-da0b3b94bb65"
      },
      "execution_count": null,
      "outputs": [
        {
          "output_type": "stream",
          "name": "stdout",
          "text": [
            "Enter the marked price: 8000\n",
            "Net amount to pay: 6800.0\n"
          ]
        }
      ]
    },
    {
      "cell_type": "code",
      "source": [
        "marked_price = float(input(\"Enter the marked price: \"))\n",
        "\n",
        "if marked_price > 10000:\n",
        "    discount_percentage = 20\n",
        "elif marked_price > 7000:\n",
        "    discount_percentage = 15\n",
        "else:\n",
        "    discount_percentage = 10\n",
        "\n",
        "discount_amount = (discount_percentage / 100) * marked_price\n",
        "net_amount = marked_price - discount_amount\n",
        "\n",
        "print(\"Net amount to pay:\",net_amount)"
      ],
      "metadata": {
        "colab": {
          "base_uri": "https://localhost:8080/"
        },
        "id": "A83qHe4bXgOC",
        "outputId": "6b9d2c34-0522-4d16-a2bf-8e6557a4faaa"
      },
      "execution_count": null,
      "outputs": [
        {
          "output_type": "stream",
          "name": "stdout",
          "text": [
            "Enter the marked price: 10\n",
            "Net amount to pay: 9.0\n"
          ]
        }
      ]
    },
    {
      "cell_type": "code",
      "source": [
        "def generate_primes(n):\n",
        "    primes = []\n",
        "    for num in range(2, n+1):\n",
        "        if all(num % i != 0 for i in range(2, int(num**0.5) + 1)):\n",
        "            primes.append(num)\n",
        "    return primes\n",
        "\n",
        "n = int(input(\"Enter the value of n: \"))\n",
        "print(\"Prime numbers up to\", n, \"are:\", generate_primes(n))"
      ],
      "metadata": {
        "colab": {
          "base_uri": "https://localhost:8080/"
        },
        "id": "qyxuxirmXx4n",
        "outputId": "a361ad2c-78ee-4bcd-8444-19fbf5246e3d"
      },
      "execution_count": null,
      "outputs": [
        {
          "output_type": "stream",
          "name": "stdout",
          "text": [
            "Enter the value of n: 10\n",
            "Prime numbers up to 10 are: [2, 3, 5, 7]\n"
          ]
        }
      ]
    },
    {
      "cell_type": "code",
      "source": [
        "rows = 5\n",
        "\n",
        "for i in range(0, rows):\n",
        "    for j in range(0, rows - i - 1):\n",
        "        print(\" \", end=\"\")\n",
        "    for k in range(0, i + 1):\n",
        "        print(\"*\", end=\" \")\n",
        "    print()"
      ],
      "metadata": {
        "colab": {
          "base_uri": "https://localhost:8080/"
        },
        "id": "sIaDxktVYVJS",
        "outputId": "58186aa8-0628-4c65-8d4e-b30b62555579"
      },
      "execution_count": null,
      "outputs": [
        {
          "output_type": "stream",
          "name": "stdout",
          "text": [
            "    * \n",
            "   * * \n",
            "  * * * \n",
            " * * * * \n",
            "* * * * * \n"
          ]
        }
      ]
    },
    {
      "cell_type": "code",
      "source": [
        "number = int(input(\"Enter a number: \"))\n",
        "reversed_number = int(str(number)[::-1])\n",
        "print(\"Reversed number:\", reversed_number)"
      ],
      "metadata": {
        "colab": {
          "base_uri": "https://localhost:8080/"
        },
        "id": "KoFPy31GYitq",
        "outputId": "226a31c5-1f84-4505-dd09-c93dbb4dcb1f"
      },
      "execution_count": null,
      "outputs": [
        {
          "output_type": "stream",
          "name": "stdout",
          "text": [
            "Enter a number: 3256\n",
            "Reversed number: 6523\n"
          ]
        }
      ]
    },
    {
      "cell_type": "code",
      "source": [
        "n=int(input(\"Enter a number:\"))\n",
        "t1=0\n",
        "t2=1\n",
        "t3=t1+t2\n",
        "print(t1,t2)\n",
        "count=0\n",
        "while count<n:\n",
        "  print(t3 ,end=\" \")\n",
        "  t1=t2\n",
        "  t2=t3\n",
        "  t3=t1+t2\n",
        "  count+=1\n",
        "print()"
      ],
      "metadata": {
        "colab": {
          "base_uri": "https://localhost:8080/"
        },
        "id": "wv_E6DcvZLVq",
        "outputId": "1f887790-f131-4bf8-8355-edf9874a5404"
      },
      "execution_count": null,
      "outputs": [
        {
          "output_type": "stream",
          "name": "stdout",
          "text": [
            "Enter a number:10\n",
            "0 1\n",
            "1 2 3 5 8 13 21 34 55 89 \n"
          ]
        }
      ]
    },
    {
      "cell_type": "code",
      "execution_count": null,
      "metadata": {
        "colab": {
          "base_uri": "https://localhost:8080/"
        },
        "id": "SHx2QkN8f8O2",
        "outputId": "8d2d1b17-e346-4647-c5bd-1f5bbca57997"
      },
      "outputs": [
        {
          "output_type": "stream",
          "name": "stdout",
          "text": [
            "[2, 4, 6, 8, 10] [1, 3, 5, 7, 9] [4, 16, 36, 64, 100] [1, 9, 25, 49, 81] "
          ]
        }
      ],
      "source": [
        "a=[1,2,3,4,5,6,7,8,9,10]\n",
        "ev=[]\n",
        "od=[]\n",
        "evs=[]\n",
        "ods=[]\n",
        "for i in a:\n",
        "    if(i%2==0):\n",
        "        ev.append(i)\n",
        "        evs.append(i*i)\n",
        "    else:\n",
        "        od.append(i)\n",
        "        ods.append(i*i)\n",
        "print(ev,od,evs,ods,end=\" \")"
      ]
    },
    {
      "cell_type": "code",
      "source": [
        "list1=[2,4,8,7,34,24,9]\n",
        "mini=list1[0]\n",
        "maxi=list1[0]\n",
        "for i in list1:\n",
        "  if (maxi< i):\n",
        "    maxi=i\n",
        "  if(mini>i):\n",
        "    mini=i\n",
        "print(\"The maximum value is:\",maxi)\n",
        "print(\"The minimum value is: \",mini)\n"
      ],
      "metadata": {
        "colab": {
          "base_uri": "https://localhost:8080/"
        },
        "id": "dPdbS3slnFii",
        "outputId": "c852a6aa-67c2-483f-d74f-bddddb9768bc"
      },
      "execution_count": null,
      "outputs": [
        {
          "output_type": "stream",
          "name": "stdout",
          "text": [
            "The maximum value is: 34\n",
            "The minimum value is:  2\n"
          ]
        }
      ]
    },
    {
      "cell_type": "code",
      "source": [
        "li1=[2,4,8,7,34,24,9]\n",
        "min=li1[0]\n",
        "max=li1[0]\n",
        "for i in li1:\n",
        "  if (max< i):\n",
        "    max=i\n",
        "  if(min>i):\n",
        "    min=i\n",
        "print(\"BEFORE REMOVAL:\",li1)\n",
        "print(\"The first maximum value is:\",max)\n",
        "print(\"The first minimum value is: \",min)\n",
        "li1.remove(maxi)\n",
        "li1.remove(mini)\n",
        "print(\"After Removal\",li1)\n",
        "maxi=list1[0]\n",
        "mini=list1[0]\n",
        "for j in list1:\n",
        "  if(maxi < j):\n",
        "    maxi=j\n",
        "  if(mini > j):\n",
        "    mini=j\n",
        "print(\"The second maximum value is:\",maxi)\n",
        "print(\"The second minimum value is: \",mini)"
      ],
      "metadata": {
        "colab": {
          "base_uri": "https://localhost:8080/"
        },
        "id": "l9zsxiOAoQUY",
        "outputId": "c807eda6-6aab-4127-e088-46172aa889e9"
      },
      "execution_count": null,
      "outputs": [
        {
          "output_type": "stream",
          "name": "stdout",
          "text": [
            "BEFORE REMOVAL: [2, 4, 8, 7, 34, 24, 9]\n",
            "The first maximum value is: 34\n",
            "The first minimum value is:  2\n",
            "After Removal [4, 8, 7, 24, 9]\n",
            "The second maximum value is: 45\n",
            "The second minimum value is:  2\n"
          ]
        }
      ]
    },
    {
      "cell_type": "code",
      "source": [
        "s= [45,67,83,24,55,87,77,34]\n",
        "x=s.index(55)\n",
        "print(x)\n"
      ],
      "metadata": {
        "colab": {
          "base_uri": "https://localhost:8080/"
        },
        "id": "WA0MLHIksP_Z",
        "outputId": "b171a979-4421-4294-bfaf-ee6cdfb828b4"
      },
      "execution_count": null,
      "outputs": [
        {
          "output_type": "stream",
          "name": "stdout",
          "text": [
            "4\n"
          ]
        }
      ]
    },
    {
      "cell_type": "code",
      "source": [
        "T=[4,5,6,4,6,7,4,2,4,8,7]\n",
        "max = 0\n",
        "R = T[0]\n",
        "for i in T:\n",
        "    fre = T.count(i)\n",
        "    if fre > max:\n",
        "        max = fre\n",
        "        R = i\n",
        "print(R)"
      ],
      "metadata": {
        "colab": {
          "base_uri": "https://localhost:8080/"
        },
        "id": "tKk9I5C2syBZ",
        "outputId": "445b901b-6438-4113-b71e-6f3e2e6ad98f"
      },
      "execution_count": null,
      "outputs": [
        {
          "output_type": "stream",
          "name": "stdout",
          "text": [
            "4\n"
          ]
        }
      ]
    },
    {
      "cell_type": "code",
      "source": [
        "def indian(ru):\n",
        "  dollar=ru*0.012\n",
        "  print(\"India (Rupee) to US (Dollar) conversion is:\",dollar)\n",
        "def celsius(c):\n",
        "  fah=c*(9/5)+32\n",
        "  print(\"Celsius to Fahrenheit:\",fah)\n",
        "def bami(wei,hei):\n",
        "  bmi=wei/(hei*hei)\n",
        "  print(\"BMI Calculation:\",bmi)\n",
        "def simple(p,r,t):\n",
        "  inter=(p*r*t)/100\n",
        "  print(\"Simple Interest Calculation:\",inter)\n",
        "\n",
        "rupee=int(input(\"Enter the rupees:\"))\n",
        "c=float(input(\"Enter celsius\"))\n",
        "wei=int(input(\"Enter weight\"))\n",
        "hei=int(input(\"Enter height\"))\n",
        "p=int(input(\"p\"))\n",
        "r=int(input(\"r\"))\n",
        "t=int(input(\"t\"))\n",
        "\n",
        "indian(rupee)\n",
        "celsius(c)\n",
        "bami(wei,hei)\n",
        "simple(p,r,t)"
      ],
      "metadata": {
        "colab": {
          "base_uri": "https://localhost:8080/"
        },
        "id": "gNz6gAF9uuu-",
        "outputId": "1d57acd2-83b6-44b5-e86e-5d3689a05bde"
      },
      "execution_count": null,
      "outputs": [
        {
          "output_type": "stream",
          "name": "stdout",
          "text": [
            "Enter the rupees:12\n",
            "Enter celsius7\n",
            "Enter weight45\n",
            "Enter height78\n",
            "p7\n",
            "r8\n",
            "t5\n",
            "India (Rupee) to US (Dollar) conversion is: 0.14400000000000002\n",
            "Celsius to Fahrenheit: 44.6\n",
            "BMI Calculation: 0.0073964497041420114\n",
            "Simple Interest Calculation: 2.8\n"
          ]
        }
      ]
    },
    {
      "cell_type": "code",
      "source": [
        "def ascending_order(lst):\n",
        "  for i in range(len(lst)):\n",
        "      for j in range(i + 1, len(lst)):\n",
        "          if lst[i] > lst[j]:\n",
        "                lst[i], lst[j] = lst[j], lst[i]\n",
        "  return lst\n",
        "def descending_order(lst):\n",
        "    for i in range(len(lst)):\n",
        "        for j in range(i + 1, len(lst)):\n",
        "            if lst[i] < lst[j]:\n",
        "                lst[i], lst[j] = lst[j], lst[i]\n",
        "    return lst\n",
        "input_list = [5, 3, 7, 9, 8, 4, 2]\n",
        "ascending_sorted = ascending_order(input_list.copy())\n",
        "print(\"Ascending Order:\", ascending_sorted)\n",
        "descending_sorted = descending_order(input_list.copy())\n",
        "print(\"Descending Order:\", descending_sorted)"
      ],
      "metadata": {
        "colab": {
          "base_uri": "https://localhost:8080/"
        },
        "id": "n3vlI__50B-2",
        "outputId": "c0460539-2b6f-4c7a-bca0-afd139c4c1d3"
      },
      "execution_count": null,
      "outputs": [
        {
          "output_type": "stream",
          "name": "stdout",
          "text": [
            "Ascending Order: [2, 3, 4, 5, 7, 8, 9]\n",
            "Descending Order: [9, 8, 7, 5, 4, 3, 2]\n"
          ]
        }
      ]
    },
    {
      "cell_type": "code",
      "source": [
        "import random\n",
        "\n",
        "class Voter:\n",
        "    def __init__(self, name):\n",
        "        self.name = name\n",
        "        self.vote = None\n",
        "\n",
        "class Candidate:\n",
        "    def __init__(self, name):\n",
        "        self.name = name\n",
        "        self.votes = 0\n",
        "\n",
        "voter_names = [\"Voter1\", \"Voter2\", \"Voter3\", \"Voter4\", \"Voter5\", \"Voter6\", \"Voter7\", \"Voter8\", \"Voter9\", \"Voter10\"]\n",
        "\n",
        "voters = [Voter(name) for name in voter_names]\n",
        "\n",
        "candidates = [Candidate(\"A\"), Candidate(\"B\"), Candidate(\"C\")]\n",
        "\n",
        "for voter in voters:\n",
        "    voter.vote = random.choice(candidates)\n",
        "\n",
        "for voter in voters:\n",
        "    voter.vote.votes += 1\n",
        "\n",
        "winner = max(candidates, key=lambda x: x.votes)\n",
        "runner = min(candidates, key=lambda x: x.votes)\n",
        "\n",
        "print(\"Winner:\", winner.name)\n",
        "print(\"Runner:\", runner.name)\n",
        "\n",
        "print(\"Voters who voted for the winner:\")\n",
        "for voter in voters:\n",
        "    if voter.vote == winner:\n",
        "        print(voter.name)\n",
        "\n",
        "print(\"Voters who voted for the runner:\")\n",
        "for voter in voters:\n",
        "    if voter.vote == runner:\n",
        "        print(voter.name)\n",
        "\n"
      ],
      "metadata": {
        "colab": {
          "base_uri": "https://localhost:8080/"
        },
        "id": "XQFy9Tsf5_Nn",
        "outputId": "65044ebe-e00e-4f5d-a832-06bff04804b4"
      },
      "execution_count": null,
      "outputs": [
        {
          "output_type": "stream",
          "name": "stdout",
          "text": [
            "Winner: C\n",
            "Runner: A\n",
            "Voters who voted for the winner:\n",
            "Voter3\n",
            "Voter4\n",
            "Voter6\n",
            "Voter7\n",
            "Voters who voted for the runner:\n",
            "Voter2\n",
            "Voter5\n",
            "Voter8\n"
          ]
        }
      ]
    },
    {
      "cell_type": "code",
      "source": [
        "T=[4,5,6,4,6,7,4,2,4,8,7]\n",
        "max = 0\n",
        "R = T[0]\n",
        "for i in T:\n",
        "    fre = T.count(i)\n",
        "    if fre > max:\n",
        "        max = fre\n",
        "        R = i\n",
        "print(R)\n",
        "keys = ['Ten', 'Twenty', 'Thirty']\n",
        "values = [10, 20, 30]\n",
        "for i in range(1):\n",
        "  res={keys[0]:values[0],keys[1]:values[1],keys[2]:values[2]}\n",
        "  print(res)"
      ],
      "metadata": {
        "colab": {
          "base_uri": "https://localhost:8080/"
        },
        "id": "-rWdHEip5jGz",
        "outputId": "3a9cefe5-aad9-4182-f53d-c2ee251d4466"
      },
      "execution_count": null,
      "outputs": [
        {
          "output_type": "stream",
          "name": "stdout",
          "text": [
            "4\n",
            "{'Ten': 10, 'Twenty': 20, 'Thirty': 30}\n"
          ]
        }
      ]
    },
    {
      "cell_type": "code",
      "source": [
        "input_list = [0, 1, 0, 1, 1, 0, 1, 0, 1, 0]\n",
        "\n",
        "sorted_list = sorted(input_list)\n",
        "\n",
        "print(sorted_list)\n",
        "\n"
      ],
      "metadata": {
        "id": "8Wj9VeS86MsW",
        "outputId": "b483718a-c11a-4761-b3f3-6cff7b814b5b",
        "colab": {
          "base_uri": "https://localhost:8080/"
        }
      },
      "execution_count": null,
      "outputs": [
        {
          "output_type": "stream",
          "name": "stdout",
          "text": [
            "[0, 0, 0, 0, 0, 1, 1, 1, 1, 1]\n"
          ]
        }
      ]
    }
  ]
}